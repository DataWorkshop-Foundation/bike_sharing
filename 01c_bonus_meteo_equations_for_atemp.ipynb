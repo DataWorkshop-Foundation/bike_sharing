{
 "cells": [
  {
   "cell_type": "markdown",
   "metadata": {},
   "source": [
    "##### This is an additional (bonus) notebook - _not annotated properly_ #####\n",
    "The purpose of this notebook is to check if `atemp` feature is a function of other features typically mentioned in meteorological sources"
   ]
  },
  {
   "cell_type": "code",
   "execution_count": 6,
   "metadata": {},
   "outputs": [],
   "source": [
    "import numpy as np\n",
    "import pandas as pd\n",
    "import matplotlib.pyplot as plt\n",
    "\n",
    "from sklearn.metrics import mean_absolute_error\n",
    "from sklearn.model_selection import cross_val_score\n",
    "\n",
    "import catboost as ctb\n",
    "import lightgbm as lgbm\n",
    "import xgboost as xgb\n",
    "from sklearn.ensemble import RandomForestRegressor\n",
    "\n",
    "# minor settings\n",
    "plt.style.use('ggplot')\n",
    "%matplotlib inline"
   ]
  },
  {
   "cell_type": "code",
   "execution_count": 7,
   "metadata": {},
   "outputs": [],
   "source": [
    "df_train = pd.read_csv('inputs/train.csv')\n",
    "df_test = pd.read_csv('inputs/test.csv')\n",
    "\n",
    "df = pd.concat([df_train, df_test], axis=0)"
   ]
  },
  {
   "cell_type": "code",
   "execution_count": 8,
   "metadata": {},
   "outputs": [],
   "source": [
    "# Feels-like temperature\n",
    "# https://www.wunderground.com/maps/temperature/feels-like"
   ]
  },
  {
   "cell_type": "code",
   "execution_count": 26,
   "metadata": {},
   "outputs": [],
   "source": [
    "# Heat index equation\n",
    "# https://www.wpc.ncep.noaa.gov/html/heatindex_equation.shtml\n",
    "\n",
    "def check_HI(t, rh):\n",
    "    T = (t*1.8) + 32 # T converted to degrees Fahrenheit\n",
    "    RH = rh /100 # humidity represented as %\n",
    "\n",
    "    # last part of equation is for conversion back to Celsius\n",
    "    return ((-42.379 + 2.04901523*T + 10.14333127*RH - .22475541*T*RH - .00683783*T*T - .05481717*RH*RH + .00122874*T*T*RH + .00085282*T*RH*RH - .00000199*T*T*RH*RH) - 32) *(5/9) "
   ]
  },
  {
   "cell_type": "code",
   "execution_count": 10,
   "metadata": {},
   "outputs": [],
   "source": [
    "df['HI_equation'] = [check_HI(t, rh) for t, rh in zip(df['temp'], df['humidity'])]\n",
    "df['delta_atemp_HI'] = df['atemp'] - df['HI_equation']"
   ]
  },
  {
   "cell_type": "code",
   "execution_count": 13,
   "metadata": {},
   "outputs": [
    {
     "data": {
      "image/png": "[encoded data removed]",
      "text/plain": [
       "<Figure size 432x288 with 1 Axes>"
      ]
     },
     "metadata": {
      "needs_background": "light"
     },
     "output_type": "display_data"
    }
   ],
   "source": [
    "plt.title('Histogram of differences between atemp \\n and the temperature calculated by the HI formula')\n",
    "df['delta_atemp_HI'].hist();"
   ]
  },
  {
   "cell_type": "code",
   "execution_count": 14,
   "metadata": {},
   "outputs": [],
   "source": [
    "# https://en.wikipedia.org/wiki/Wind_chill\n",
    "def check_WC(t, v):\n",
    "    # v = v * 1.609344 # we don't know if v is in mph or km/h\n",
    "    return 13.12 + 0.6215*t - 11.37*v**0.16 + 0.3965*t*v**0.16"
   ]
  },
  {
   "cell_type": "code",
   "execution_count": 15,
   "metadata": {},
   "outputs": [],
   "source": [
    "df['WC_equation'] = [check_WC(t, v) for t, v in zip(df['temp'], df['windspeed'])]\n",
    "df['delta_atemp_WC'] = df['atemp'] - df['WC_equation']"
   ]
  },
  {
   "cell_type": "code",
   "execution_count": 16,
   "metadata": {},
   "outputs": [
    {
     "data": {
      "image/png": "[encoded data removed]",
      "text/plain": [
       "<Figure size 432x288 with 1 Axes>"
      ]
     },
     "metadata": {
      "needs_background": "light"
     },
     "output_type": "display_data"
    }
   ],
   "source": [
    "plt.title('Histogram of differences between atemp \\n and the temperature calculated by the WC formula')\n",
    "df['delta_atemp_WC'].hist();"
   ]
  },
  {
   "cell_type": "markdown",
   "metadata": {},
   "source": [
    "Simple models - no hyperparameter tuning"
   ]
  },
  {
   "cell_type": "code",
   "execution_count": 17,
   "metadata": {},
   "outputs": [],
   "source": [
    "df = df[['temp', 'atemp', 'humidity', 'windspeed', 'season']]\n",
    "\n",
    "X = df.drop(['atemp'], axis = 1)\n",
    "y = df['atemp']"
   ]
  },
  {
   "cell_type": "code",
   "execution_count": 20,
   "metadata": {},
   "outputs": [],
   "source": [
    "xparams = {'n_estimators': 200, 'max_depth': 10, 'random_state': 0, 'verbosity':0, 'use_label_encoder': False }\n",
    "cparams = {'n_estimators': 100, 'max_depth': 10, 'random_state': 0 , 'silent': True}\n",
    "lparams = {'n_estimators': 100, 'max_depth': 10, 'random_state': 0, 'verbosity':-1, 'silent': True, 'force_row_wise':True}\n",
    "\n",
    "models = [\n",
    "    ('XGBoostRegressor', xgb.XGBRegressor(**xparams)),\n",
    "    ('CatBoostRregressor',  ctb.CatBoostRegressor(**cparams)),\n",
    "    ('LGBMRegressor', lgbm.LGBMRegressor(**lparams)),\n",
    "    ('RandomForest', RandomForestRegressor())]"
   ]
  },
  {
   "cell_type": "code",
   "execution_count": 25,
   "metadata": {},
   "outputs": [
    {
     "name": "stdout",
     "output_type": "stream",
     "text": [
      "XGBoostRegressor \t -0.099 0.034\n",
      "CatBoostRregressor \t -0.188 0.022\n",
      "[LightGBM] [Warning] Accuracy may be bad since you didn't set num_leaves and 2^max_depth > num_leaves\n",
      "[LightGBM] [Warning] Accuracy may be bad since you didn't set num_leaves and 2^max_depth > num_leaves\n",
      "[LightGBM] [Warning] Accuracy may be bad since you didn't set num_leaves and 2^max_depth > num_leaves\n",
      "[LightGBM] [Warning] Accuracy may be bad since you didn't set num_leaves and 2^max_depth > num_leaves\n",
      "[LightGBM] [Warning] Accuracy may be bad since you didn't set num_leaves and 2^max_depth > num_leaves\n",
      "LGBMRegressor \t -0.165 0.035\n",
      "RandomForest \t -0.088 0.038\n"
     ]
    }
   ],
   "source": [
    "\n",
    "for model in models:\n",
    "    model_name = model[0]\n",
    "    model_obj = model[1]\n",
    "    scores = cross_val_score(model_obj, X, y, cv=5, scoring='neg_mean_absolute_error')\n",
    "\n",
    "    print(model_name, '\\t', round(np.mean(scores),3), round(np.std(scores),3))"
   ]
  },
  {
   "cell_type": "code",
   "execution_count": null,
   "metadata": {},
   "outputs": [],
   "source": []
  }
 ],
 "metadata": {
  "interpreter": {
   "hash": "423b8b96d4e1ec477b5c8920e05a523372dc7245eb6302a2ca5de114e24c04c2"
  },
  "kernelspec": {
   "display_name": "Python 3.7.5 64-bit",
   "language": "python",
   "name": "python3"
  },
  "language_info": {
   "codemirror_mode": {
    "name": "ipython",
    "version": 3
   },
   "file_extension": ".py",
   "mimetype": "text/x-python",
   "name": "python",
   "nbconvert_exporter": "python",
   "pygments_lexer": "ipython3",
   "version": "3.7.5"
  },
  "orig_nbformat": 4
 },
 "nbformat": 4,
 "nbformat_minor": 2
}
